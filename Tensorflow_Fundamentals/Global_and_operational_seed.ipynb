{
 "cells": [
  {
   "cell_type": "code",
   "execution_count": 2,
   "id": "2c5ec617",
   "metadata": {},
   "outputs": [],
   "source": [
    "import tensorflow as tf"
   ]
  },
  {
   "cell_type": "code",
   "execution_count": 8,
   "id": "9d26b5a9",
   "metadata": {},
   "outputs": [
    {
     "data": {
      "text/plain": [
       "<tf.Tensor: shape=(3, 2), dtype=float32, numpy=\n",
       "array([[0.94573236, 0.09348297],\n",
       "       [0.5199989 , 0.44088244],\n",
       "       [0.820037  , 0.35246098]], dtype=float32)>"
      ]
     },
     "execution_count": 8,
     "metadata": {},
     "output_type": "execute_result"
    }
   ],
   "source": [
    "tf.random.uniform(shape= (3, 2), seed= 42)"
   ]
  },
  {
   "cell_type": "code",
   "execution_count": 22,
   "id": "0411b928",
   "metadata": {},
   "outputs": [
    {
     "data": {
      "text/plain": [
       "<tf.Tensor: shape=(3, 2), dtype=float32, numpy=\n",
       "array([[0.6645621 , 0.44100678],\n",
       "       [0.3528825 , 0.46448255],\n",
       "       [0.03366041, 0.68467236]], dtype=float32)>"
      ]
     },
     "execution_count": 22,
     "metadata": {},
     "output_type": "execute_result"
    }
   ],
   "source": [
    "tf.random.set_seed(42)\n",
    "tf.random.uniform(shape= (3, 2))"
   ]
  },
  {
   "cell_type": "code",
   "execution_count": 31,
   "id": "bfc00354",
   "metadata": {},
   "outputs": [
    {
     "data": {
      "text/plain": [
       "<tf.Tensor: shape=(3, 2), dtype=float32, numpy=\n",
       "array([[0.4163028 , 0.26858163],\n",
       "       [0.47968316, 0.36457133],\n",
       "       [0.95471144, 0.9418646 ]], dtype=float32)>"
      ]
     },
     "execution_count": 31,
     "metadata": {},
     "output_type": "execute_result"
    }
   ],
   "source": [
    "tf.random.set_seed(42)\n",
    "tf.random.uniform(shape= (3, 2), seed= 42)"
   ]
  },
  {
   "cell_type": "markdown",
   "id": "2cee5f5e",
   "metadata": {},
   "source": [
    "CONCLUSION: IF WE SET ONLY THE OPERATIONAL SEED, THEN tf PICKS VALUES WITHIN THAT SEED, i.e. IT WILL KEEP CHANGING THE VALUES WHEN WE RE-RUN THE CELL. IF WE SET A GLOBAL SEED, IT SETS FIXED VALUES FROM THAT GLOBAL SEED. AND, IF WE SET GLOBAL + OPERATIONAL SEED, IT SETS A VALUE USING THE BOTH OF THEM."
   ]
  }
 ],
 "metadata": {
  "kernelspec": {
   "display_name": "Python 3 (ipykernel)",
   "language": "python",
   "name": "python3"
  },
  "language_info": {
   "codemirror_mode": {
    "name": "ipython",
    "version": 3
   },
   "file_extension": ".py",
   "mimetype": "text/x-python",
   "name": "python",
   "nbconvert_exporter": "python",
   "pygments_lexer": "ipython3",
   "version": "3.11.4"
  }
 },
 "nbformat": 4,
 "nbformat_minor": 5
}
