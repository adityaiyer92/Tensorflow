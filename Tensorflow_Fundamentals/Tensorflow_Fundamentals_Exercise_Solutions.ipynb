{
  "nbformat": 4,
  "nbformat_minor": 0,
  "metadata": {
    "colab": {
      "provenance": [],
      "gpuType": "V28"
    },
    "kernelspec": {
      "name": "python3",
      "display_name": "Python 3"
    },
    "language_info": {
      "name": "python"
    },
    "accelerator": "TPU"
  },
  "cells": [
    {
      "cell_type": "code",
      "execution_count": 18,
      "metadata": {
        "colab": {
          "base_uri": "https://localhost:8080/",
          "height": 55
        },
        "id": "zw9YX3-tldSq",
        "outputId": "25bc49f3-3465-46a9-85ab-0967d68eafa3"
      },
      "outputs": [
        {
          "output_type": "execute_result",
          "data": {
            "text/plain": [
              "'2.15.0'"
            ],
            "application/vnd.google.colaboratory.intrinsic+json": {
              "type": "string"
            }
          },
          "metadata": {},
          "execution_count": 18
        }
      ],
      "source": [
        "import tensorflow as tf\n",
        "import numpy as np\n",
        "tf.__version__"
      ]
    },
    {
      "cell_type": "code",
      "source": [
        "!nvidia-smi"
      ],
      "metadata": {
        "colab": {
          "base_uri": "https://localhost:8080/"
        },
        "id": "O6EyV5enl284",
        "outputId": "7b94bd0c-a094-40bb-86fa-28c1e399c245"
      },
      "execution_count": 2,
      "outputs": [
        {
          "output_type": "stream",
          "name": "stdout",
          "text": [
            "/bin/bash: line 1: nvidia-smi: command not found\n"
          ]
        }
      ]
    },
    {
      "cell_type": "code",
      "source": [
        "#Scalar\n",
        "scalar = tf.constant(7)\n",
        "scalar"
      ],
      "metadata": {
        "id": "aNVBMSe6mNAS"
      },
      "execution_count": 3,
      "outputs": []
    },
    {
      "cell_type": "code",
      "source": [
        "#Vector\n",
        "vector = tf.constant([8, 8])\n",
        "vector"
      ],
      "metadata": {
        "colab": {
          "base_uri": "https://localhost:8080/"
        },
        "id": "RxXn4DGamhj2",
        "outputId": "84ee8cc3-9a60-41b2-b27c-a7bea28c202a"
      },
      "execution_count": 4,
      "outputs": [
        {
          "output_type": "execute_result",
          "data": {
            "text/plain": [
              "<tf.Tensor: shape=(2,), dtype=int32, numpy=array([8, 8], dtype=int32)>"
            ]
          },
          "metadata": {},
          "execution_count": 4
        }
      ]
    },
    {
      "cell_type": "code",
      "source": [
        "#Matrix\n",
        "matrix = tf.constant([[10, 7], [14, 17]])\n",
        "matrix"
      ],
      "metadata": {
        "colab": {
          "base_uri": "https://localhost:8080/"
        },
        "id": "ynbgU0xxmn3O",
        "outputId": "c76aedb0-dfd1-4e93-9d2f-78a1d3217977"
      },
      "execution_count": 5,
      "outputs": [
        {
          "output_type": "execute_result",
          "data": {
            "text/plain": [
              "<tf.Tensor: shape=(2, 2), dtype=int32, numpy=\n",
              "array([[10,  7],\n",
              "       [14, 17]], dtype=int32)>"
            ]
          },
          "metadata": {},
          "execution_count": 5
        }
      ]
    },
    {
      "cell_type": "code",
      "source": [
        "#Tensor\n",
        "tensor = tf.constant([[[10, 7], [15, 12]], [[20, 22], [35, 8]]])\n",
        "tensor"
      ],
      "metadata": {
        "colab": {
          "base_uri": "https://localhost:8080/"
        },
        "id": "WZ0wnqPNmvM3",
        "outputId": "a637f670-bbb9-4a61-a0e8-554b62cbe508"
      },
      "execution_count": 6,
      "outputs": [
        {
          "output_type": "execute_result",
          "data": {
            "text/plain": [
              "<tf.Tensor: shape=(2, 2, 2), dtype=int32, numpy=\n",
              "array([[[10,  7],\n",
              "        [15, 12]],\n",
              "\n",
              "       [[20, 22],\n",
              "        [35,  8]]], dtype=int32)>"
            ]
          },
          "metadata": {},
          "execution_count": 6
        }
      ]
    },
    {
      "cell_type": "code",
      "source": [
        "#Shape\n",
        "print(scalar.shape)\n",
        "#Rank\n",
        "print(tf.rank(scalar))\n",
        "#Size\n",
        "print(tf.size(scalar))"
      ],
      "metadata": {
        "colab": {
          "base_uri": "https://localhost:8080/"
        },
        "id": "lzkubFnxnGzZ",
        "outputId": "459c7587-8a2a-4823-daf0-3c6de1bcb32c"
      },
      "execution_count": 9,
      "outputs": [
        {
          "output_type": "stream",
          "name": "stdout",
          "text": [
            "()\n",
            "tf.Tensor(0, shape=(), dtype=int32)\n",
            "tf.Tensor(1, shape=(), dtype=int32)\n"
          ]
        }
      ]
    },
    {
      "cell_type": "code",
      "source": [
        "#Shape\n",
        "print(vector.shape)\n",
        "#Rank\n",
        "print(tf.rank(vector))\n",
        "#Size\n",
        "print(tf.size(vector))"
      ],
      "metadata": {
        "colab": {
          "base_uri": "https://localhost:8080/"
        },
        "id": "ccin8QarnzaQ",
        "outputId": "eedb4d68-991f-44ee-f7c6-0bd830bb6914"
      },
      "execution_count": 13,
      "outputs": [
        {
          "output_type": "stream",
          "name": "stdout",
          "text": [
            "(2,)\n",
            "tf.Tensor(1, shape=(), dtype=int32)\n",
            "tf.Tensor(2, shape=(), dtype=int32)\n"
          ]
        }
      ]
    },
    {
      "cell_type": "code",
      "source": [
        "#Shape\n",
        "print(matrix.shape)\n",
        "#Rank\n",
        "print(tf.rank(matrix))\n",
        "#Size\n",
        "print(tf.size(matrix))"
      ],
      "metadata": {
        "colab": {
          "base_uri": "https://localhost:8080/"
        },
        "id": "U4MEYL30n8-y",
        "outputId": "a49c5b9e-7025-462f-b831-6aa218e3d6b2"
      },
      "execution_count": 15,
      "outputs": [
        {
          "output_type": "stream",
          "name": "stdout",
          "text": [
            "(2, 2)\n",
            "tf.Tensor(2, shape=(), dtype=int32)\n",
            "tf.Tensor(4, shape=(), dtype=int32)\n"
          ]
        }
      ]
    },
    {
      "cell_type": "code",
      "source": [
        "#Shape\n",
        "print(tensor.shape)\n",
        "#Rank\n",
        "print(tf.rank(tensor))\n",
        "#Size\n",
        "print(tf.size(tensor))"
      ],
      "metadata": {
        "colab": {
          "base_uri": "https://localhost:8080/"
        },
        "id": "1QxxV3DGoA2c",
        "outputId": "c2d618f8-be2d-4138-d5a0-e2ca89a0a7fd"
      },
      "execution_count": 16,
      "outputs": [
        {
          "output_type": "stream",
          "name": "stdout",
          "text": [
            "(2, 2, 2)\n",
            "tf.Tensor(3, shape=(), dtype=int32)\n",
            "tf.Tensor(8, shape=(), dtype=int32)\n"
          ]
        }
      ]
    },
    {
      "cell_type": "code",
      "source": [
        "tf.random.set_seed(42)\n",
        "\n",
        "tensor_1 = tf.random.uniform(shape= [5, 300], minval= 0, maxval= 1)\n",
        "tensor_1"
      ],
      "metadata": {
        "colab": {
          "base_uri": "https://localhost:8080/"
        },
        "id": "DB3wNJj8oO1U",
        "outputId": "9524aee8-676e-4201-8534-63919210fba9"
      },
      "execution_count": 34,
      "outputs": [
        {
          "output_type": "execute_result",
          "data": {
            "text/plain": [
              "<tf.Tensor: shape=(5, 300), dtype=float32, numpy=\n",
              "array([[0.6645621 , 0.44100678, 0.3528825 , ..., 0.31410468, 0.7593535 ,\n",
              "        0.03699052],\n",
              "       [0.532024  , 0.29129946, 0.10571766, ..., 0.54052293, 0.31425726,\n",
              "        0.2200619 ],\n",
              "       [0.08404207, 0.03614604, 0.97732127, ..., 0.21516645, 0.9786098 ,\n",
              "        0.00726748],\n",
              "       [0.7396945 , 0.6653172 , 0.0787828 , ..., 0.7117733 , 0.07013571,\n",
              "        0.9409125 ],\n",
              "       [0.15861344, 0.12024033, 0.27218235, ..., 0.8824879 , 0.1432488 ,\n",
              "        0.44135118]], dtype=float32)>"
            ]
          },
          "metadata": {},
          "execution_count": 34
        }
      ]
    },
    {
      "cell_type": "code",
      "source": [
        "tensor_2 = tf.random.uniform(shape= [5, 300], minval= 0, maxval= 1)\n",
        "tensor_2"
      ],
      "metadata": {
        "colab": {
          "base_uri": "https://localhost:8080/"
        },
        "id": "cuq6eei-oiV4",
        "outputId": "5771ddf2-3d55-4312-c7d8-962411bb02d9"
      },
      "execution_count": 35,
      "outputs": [
        {
          "output_type": "execute_result",
          "data": {
            "text/plain": [
              "<tf.Tensor: shape=(5, 300), dtype=float32, numpy=\n",
              "array([[0.68789124, 0.48447883, 0.9309944 , ..., 0.6920762 , 0.33180213,\n",
              "        0.9212563 ],\n",
              "       [0.27369928, 0.10631859, 0.6218617 , ..., 0.4382149 , 0.30427706,\n",
              "        0.51477313],\n",
              "       [0.00920248, 0.37280262, 0.8177401 , ..., 0.56786287, 0.49201214,\n",
              "        0.9892651 ],\n",
              "       [0.88608265, 0.08672249, 0.12160683, ..., 0.91770685, 0.72545695,\n",
              "        0.8280058 ],\n",
              "       [0.36690474, 0.9200133 , 0.9646884 , ..., 0.69012   , 0.7137332 ,\n",
              "        0.2584542 ]], dtype=float32)>"
            ]
          },
          "metadata": {},
          "execution_count": 35
        }
      ]
    },
    {
      "cell_type": "code",
      "source": [
        "tf.linalg.matmul(tensor_1, tf.transpose(tensor_2))"
      ],
      "metadata": {
        "colab": {
          "base_uri": "https://localhost:8080/"
        },
        "id": "1gMooksXq_H7",
        "outputId": "74278e06-648d-4d5c-d472-4474f0136f2b"
      },
      "execution_count": 36,
      "outputs": [
        {
          "output_type": "execute_result",
          "data": {
            "text/plain": [
              "<tf.Tensor: shape=(5, 5), dtype=float32, numpy=\n",
              "array([[80.33342 , 73.40498 , 77.15965 , 73.98369 , 80.90055 ],\n",
              "       [75.146355, 68.80439 , 74.24303 , 71.8418  , 75.60204 ],\n",
              "       [79.7594  , 75.64456 , 77.79758 , 74.74876 , 80.55982 ],\n",
              "       [75.08526 , 69.06409 , 74.30775 , 72.27616 , 76.05669 ],\n",
              "       [85.05688 , 74.26627 , 78.00687 , 74.88679 , 83.134155]],\n",
              "      dtype=float32)>"
            ]
          },
          "metadata": {},
          "execution_count": 36
        }
      ]
    },
    {
      "cell_type": "code",
      "source": [
        "tf.tensordot(tensor_1, tf.transpose(tensor_2), axes= 1)"
      ],
      "metadata": {
        "colab": {
          "base_uri": "https://localhost:8080/"
        },
        "id": "dg7HD9wFrEfD",
        "outputId": "4f01f987-d95b-4c5d-f1fa-22c90a3c7f99"
      },
      "execution_count": 37,
      "outputs": [
        {
          "output_type": "execute_result",
          "data": {
            "text/plain": [
              "<tf.Tensor: shape=(5, 5), dtype=float32, numpy=\n",
              "array([[80.33342 , 73.40498 , 77.15965 , 73.98369 , 80.90055 ],\n",
              "       [75.146355, 68.80439 , 74.24303 , 71.8418  , 75.60204 ],\n",
              "       [79.7594  , 75.64456 , 77.79758 , 74.74876 , 80.55982 ],\n",
              "       [75.08526 , 69.06409 , 74.30775 , 72.27616 , 76.05669 ],\n",
              "       [85.05688 , 74.26627 , 78.00687 , 74.88679 , 83.134155]],\n",
              "      dtype=float32)>"
            ]
          },
          "metadata": {},
          "execution_count": 37
        }
      ]
    },
    {
      "cell_type": "code",
      "source": [
        "tensor_3 = tf.random.uniform(shape= [224, 224, 3], minval= 0, maxval= 1)\n",
        "tensor_3"
      ],
      "metadata": {
        "colab": {
          "base_uri": "https://localhost:8080/"
        },
        "id": "GszpdKJOrUn3",
        "outputId": "fa1a62bd-c0fe-4c18-df3c-34c3731440bd"
      },
      "execution_count": 38,
      "outputs": [
        {
          "output_type": "execute_result",
          "data": {
            "text/plain": [
              "<tf.Tensor: shape=(224, 224, 3), dtype=float32, numpy=\n",
              "array([[[0.7413678 , 0.62854624, 0.01738465],\n",
              "        [0.3431449 , 0.51063764, 0.3777541 ],\n",
              "        [0.07321596, 0.02137029, 0.2871771 ],\n",
              "        ...,\n",
              "        [0.98953485, 0.45382905, 0.2006687 ],\n",
              "        [0.6295223 , 0.4937899 , 0.01816809],\n",
              "        [0.95386636, 0.11542463, 0.85691285]],\n",
              "\n",
              "       [[0.78435016, 0.7826872 , 0.87936425],\n",
              "        [0.24906898, 0.3207239 , 0.10955775],\n",
              "        [0.543224  , 0.7151396 , 0.40334642],\n",
              "        ...,\n",
              "        [0.2445668 , 0.01746976, 0.9036933 ],\n",
              "        [0.02975535, 0.592268  , 0.9877522 ],\n",
              "        [0.36701274, 0.33112562, 0.5638567 ]],\n",
              "\n",
              "       [[0.15829337, 0.7288823 , 0.3366307 ],\n",
              "        [0.70792687, 0.16910625, 0.9429966 ],\n",
              "        [0.10120225, 0.5919596 , 0.8687303 ],\n",
              "        ...,\n",
              "        [0.28134012, 0.10011208, 0.37038183],\n",
              "        [0.77874243, 0.05421627, 0.4664607 ],\n",
              "        [0.2549187 , 0.7968637 , 0.83405185]],\n",
              "\n",
              "       ...,\n",
              "\n",
              "       [[0.32922816, 0.06343532, 0.23936498],\n",
              "        [0.42692196, 0.3615111 , 0.901929  ],\n",
              "        [0.8320831 , 0.21068895, 0.08272386],\n",
              "        ...,\n",
              "        [0.65110314, 0.40780962, 0.25967455],\n",
              "        [0.9018173 , 0.8245677 , 0.16757596],\n",
              "        [0.41854453, 0.19092035, 0.2523303 ]],\n",
              "\n",
              "       [[0.7064005 , 0.222404  , 0.82219553],\n",
              "        [0.8235872 , 0.76544905, 0.80999327],\n",
              "        [0.1100682 , 0.00520217, 0.6127168 ],\n",
              "        ...,\n",
              "        [0.98068535, 0.8958733 , 0.17706168],\n",
              "        [0.4252876 , 0.02087164, 0.496238  ],\n",
              "        [0.6599953 , 0.58505726, 0.7089884 ]],\n",
              "\n",
              "       [[0.90045786, 0.45803344, 0.9050728 ],\n",
              "        [0.92233   , 0.38456154, 0.30329156],\n",
              "        [0.03238845, 0.18773472, 0.9096625 ],\n",
              "        ...,\n",
              "        [0.4445815 , 0.04578841, 0.21090853],\n",
              "        [0.25966525, 0.24412918, 0.76123405],\n",
              "        [0.9643831 , 0.32687283, 0.4828869 ]]], dtype=float32)>"
            ]
          },
          "metadata": {},
          "execution_count": 38
        }
      ]
    },
    {
      "cell_type": "code",
      "source": [
        "tf.reduce_min(tensor_3)"
      ],
      "metadata": {
        "colab": {
          "base_uri": "https://localhost:8080/"
        },
        "id": "O5aNM-dmr4AN",
        "outputId": "57157fc7-dffa-402f-e0f0-5712fbdde8e2"
      },
      "execution_count": 39,
      "outputs": [
        {
          "output_type": "execute_result",
          "data": {
            "text/plain": [
              "<tf.Tensor: shape=(), dtype=float32, numpy=2.3841858e-07>"
            ]
          },
          "metadata": {},
          "execution_count": 39
        }
      ]
    },
    {
      "cell_type": "code",
      "source": [
        "tf.reduce_max(tensor_3)"
      ],
      "metadata": {
        "colab": {
          "base_uri": "https://localhost:8080/"
        },
        "id": "1CRWSgcpsIJj",
        "outputId": "2001903b-942e-4760-9b1d-e70bbc53c7c5"
      },
      "execution_count": 40,
      "outputs": [
        {
          "output_type": "execute_result",
          "data": {
            "text/plain": [
              "<tf.Tensor: shape=(), dtype=float32, numpy=0.9999918>"
            ]
          },
          "metadata": {},
          "execution_count": 40
        }
      ]
    },
    {
      "cell_type": "code",
      "source": [
        "tensor_4 = tf.random.uniform(shape= [1, 224, 224, 3], minval= 0, maxval= 1)\n",
        "\n",
        "squeezed_tensor_4 = tf.squeeze(tensor_4)\n",
        "squeezed_tensor_4"
      ],
      "metadata": {
        "colab": {
          "base_uri": "https://localhost:8080/"
        },
        "id": "JLtWe1BLtmxo",
        "outputId": "2d8f140d-ca6a-48b8-bcc7-e2986ffe40ba"
      },
      "execution_count": 41,
      "outputs": [
        {
          "output_type": "execute_result",
          "data": {
            "text/plain": [
              "<tf.Tensor: shape=(224, 224, 3), dtype=float32, numpy=\n",
              "array([[[7.4023080e-01, 3.3938193e-01, 5.6925058e-01],\n",
              "        [4.4811392e-01, 2.9285502e-01, 4.2600560e-01],\n",
              "        [6.2890387e-01, 6.9106102e-01, 3.0925727e-01],\n",
              "        ...,\n",
              "        [9.1063976e-04, 6.9863999e-01, 1.7180574e-01],\n",
              "        [6.7542684e-01, 8.3492923e-01, 3.9038682e-01],\n",
              "        [2.3664141e-01, 6.2239432e-01, 1.0117912e-01]],\n",
              "\n",
              "       [[9.7064960e-01, 5.4594779e-01, 7.6819682e-01],\n",
              "        [2.6893330e-01, 2.6959443e-01, 2.8982997e-01],\n",
              "        [2.9215467e-01, 1.7108858e-01, 6.5597153e-01],\n",
              "        ...,\n",
              "        [9.5621395e-01, 5.4591870e-01, 5.3843534e-01],\n",
              "        [9.8861516e-01, 1.5786767e-01, 6.1375093e-01],\n",
              "        [7.2668612e-01, 6.1637163e-03, 1.6534305e-01]],\n",
              "\n",
              "       [[6.4095867e-01, 7.6697862e-01, 3.0138540e-01],\n",
              "        [1.5474892e-01, 1.7183411e-01, 2.7192724e-01],\n",
              "        [3.1211805e-01, 6.1451709e-01, 4.3001354e-01],\n",
              "        ...,\n",
              "        [8.4168065e-01, 5.0247252e-01, 2.8834987e-01],\n",
              "        [3.3173549e-01, 4.5103800e-01, 6.7354202e-02],\n",
              "        [1.0118127e-01, 4.2389810e-01, 6.8379509e-01]],\n",
              "\n",
              "       ...,\n",
              "\n",
              "       [[1.8096626e-01, 8.5838544e-01, 3.4178734e-02],\n",
              "        [5.9386420e-01, 3.8502932e-01, 8.7150073e-01],\n",
              "        [1.0209656e-01, 3.7833798e-01, 1.1331165e-01],\n",
              "        ...,\n",
              "        [8.5692227e-01, 4.2525017e-01, 3.6130440e-01],\n",
              "        [5.2397156e-01, 1.3922489e-01, 2.2725856e-01],\n",
              "        [9.1044855e-01, 9.1889143e-02, 1.5898192e-01]],\n",
              "\n",
              "       [[6.5610647e-02, 1.5236783e-01, 7.9822493e-01],\n",
              "        [3.0753601e-01, 4.3507314e-01, 7.9526460e-01],\n",
              "        [8.3535135e-01, 3.8671303e-01, 4.4709980e-01],\n",
              "        ...,\n",
              "        [6.8944788e-01, 6.5163302e-01, 9.1498744e-01],\n",
              "        [3.2730651e-01, 4.3430209e-01, 8.7547708e-01],\n",
              "        [1.8118513e-01, 6.4113998e-01, 4.3338275e-01]],\n",
              "\n",
              "       [[4.1520441e-01, 1.7824161e-01, 9.2302203e-02],\n",
              "        [4.3809581e-01, 4.6262145e-01, 3.8647270e-01],\n",
              "        [4.6021819e-02, 7.6314330e-02, 3.2944894e-01],\n",
              "        ...,\n",
              "        [3.7793708e-01, 8.7314355e-01, 5.2063870e-01],\n",
              "        [7.3511279e-01, 7.9594767e-01, 8.2211494e-02],\n",
              "        [9.7483528e-01, 8.2736588e-01, 7.6870322e-01]]], dtype=float32)>"
            ]
          },
          "metadata": {},
          "execution_count": 41
        }
      ]
    },
    {
      "cell_type": "code",
      "source": [
        "tensor_5 = tf.constant([1, 2, 3, 5, -2.5, 0.333, 9, 0.000001, -100, 4])\n",
        "tensor_5"
      ],
      "metadata": {
        "colab": {
          "base_uri": "https://localhost:8080/"
        },
        "id": "Q5_RkGa_t0PI",
        "outputId": "c0e33447-5197-42ac-f106-3cf633c6a75e"
      },
      "execution_count": 42,
      "outputs": [
        {
          "output_type": "execute_result",
          "data": {
            "text/plain": [
              "<tf.Tensor: shape=(10,), dtype=float32, numpy=\n",
              "array([ 1.00e+00,  2.00e+00,  3.00e+00,  5.00e+00, -2.50e+00,  3.33e-01,\n",
              "        9.00e+00,  1.00e-06, -1.00e+02,  4.00e+00], dtype=float32)>"
            ]
          },
          "metadata": {},
          "execution_count": 42
        }
      ]
    },
    {
      "cell_type": "code",
      "source": [
        "tf.argmax(tensor_5)"
      ],
      "metadata": {
        "colab": {
          "base_uri": "https://localhost:8080/"
        },
        "id": "_C51yzCluPWl",
        "outputId": "36b586bf-8259-485f-832a-00d12fc4568d"
      },
      "execution_count": 43,
      "outputs": [
        {
          "output_type": "execute_result",
          "data": {
            "text/plain": [
              "<tf.Tensor: shape=(), dtype=int64, numpy=6>"
            ]
          },
          "metadata": {},
          "execution_count": 43
        }
      ]
    },
    {
      "cell_type": "code",
      "source": [
        "tf.argmin(tensor_5)"
      ],
      "metadata": {
        "colab": {
          "base_uri": "https://localhost:8080/"
        },
        "id": "1o3IKeWFuWq-",
        "outputId": "788cfdea-7430-44a1-d1c9-02bdeeea6e95"
      },
      "execution_count": 44,
      "outputs": [
        {
          "output_type": "execute_result",
          "data": {
            "text/plain": [
              "<tf.Tensor: shape=(), dtype=int64, numpy=8>"
            ]
          },
          "metadata": {},
          "execution_count": 44
        }
      ]
    },
    {
      "cell_type": "code",
      "source": [
        "tf.one_hot(tf.cast(tensor_5, dtype= tf.int32), depth= 4)"
      ],
      "metadata": {
        "colab": {
          "base_uri": "https://localhost:8080/"
        },
        "id": "ex7_0vqEuYrh",
        "outputId": "63ddbd60-910c-4831-cad6-cb2b26af60b8"
      },
      "execution_count": 46,
      "outputs": [
        {
          "output_type": "execute_result",
          "data": {
            "text/plain": [
              "<tf.Tensor: shape=(10, 4), dtype=float32, numpy=\n",
              "array([[0., 1., 0., 0.],\n",
              "       [0., 0., 1., 0.],\n",
              "       [0., 0., 0., 1.],\n",
              "       [0., 0., 0., 0.],\n",
              "       [0., 0., 0., 0.],\n",
              "       [1., 0., 0., 0.],\n",
              "       [0., 0., 0., 0.],\n",
              "       [1., 0., 0., 0.],\n",
              "       [0., 0., 0., 0.],\n",
              "       [0., 0., 0., 0.]], dtype=float32)>"
            ]
          },
          "metadata": {},
          "execution_count": 46
        }
      ]
    },
    {
      "cell_type": "code",
      "source": [],
      "metadata": {
        "id": "I9H8edr4ui-V"
      },
      "execution_count": null,
      "outputs": []
    }
  ]
}