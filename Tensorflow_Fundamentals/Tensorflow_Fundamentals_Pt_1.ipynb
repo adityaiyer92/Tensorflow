{
  "nbformat": 4,
  "nbformat_minor": 0,
  "metadata": {
    "colab": {
      "provenance": [],
      "gpuType": "T4",
      "collapsed_sections": [
        "uc_CRowMCAeK",
        "5aT6wVslR3ob",
        "qwRumHHZSxMn",
        "m80XitexWehv",
        "kyL3LMfJcpk4",
        "AKkpjKkjUS6-",
        "NrvBylWtd6I9",
        "w_Rum45bnIrt",
        "kVqgQEr3yOC8"
      ]
    },
    "kernelspec": {
      "name": "python3",
      "display_name": "Python 3"
    },
    "language_info": {
      "name": "python"
    },
    "accelerator": "GPU"
  },
  "cells": [
    {
      "cell_type": "markdown",
      "source": [
        "## Introduction to tensors using TensorFlow\n",
        "\n",
        "* TensorFlow tf.function() is a way to speed up regular Python functions\n",
        "* Used with GPUs/TPUs for fast numerical computing. That's its main purpose."
      ],
      "metadata": {
        "id": "WKD2NkrK-POH"
      }
    },
    {
      "cell_type": "code",
      "source": [
        "import tensorflow as tf\n",
        "print(tf.__version__)"
      ],
      "metadata": {
        "id": "QHJb3fu99koh",
        "colab": {
          "base_uri": "https://localhost:8080/"
        },
        "outputId": "fdc9e2a3-e440-4b26-eb39-b12c5b47c39c"
      },
      "execution_count": null,
      "outputs": [
        {
          "output_type": "stream",
          "name": "stdout",
          "text": [
            "2.17.1\n"
          ]
        }
      ]
    },
    {
      "cell_type": "markdown",
      "source": [
        "## Creating Tensors with tf.constant()\n",
        "\n",
        "* Mostly won't be creating too many Tensors on our own\n",
        "* Tf has a lot of modules that can read in data sources (e.g. images) and convert them to Tensors (depending on code we write)\n",
        "* Later on, Neural Network model will process Tesnsors for us"
      ],
      "metadata": {
        "id": "uc_CRowMCAeK"
      }
    },
    {
      "cell_type": "code",
      "source": [
        "help(tf.constant)"
      ],
      "metadata": {
        "colab": {
          "base_uri": "https://localhost:8080/"
        },
        "collapsed": true,
        "id": "5GFzb4JHGRJk",
        "outputId": "f91ecba4-a0e8-4ae7-d2cf-ac2022321080"
      },
      "execution_count": null,
      "outputs": [
        {
          "output_type": "stream",
          "name": "stdout",
          "text": [
            "Help on function constant in module tensorflow.python.framework.constant_op:\n",
            "\n",
            "constant(value, dtype=None, shape=None, name='Const') -> Union[tensorflow.python.framework.ops.Operation, tensorflow.python.framework.ops._EagerTensorBase]\n",
            "    Creates a constant tensor from a tensor-like object.\n",
            "    \n",
            "    Note: All eager `tf.Tensor` values are immutable (in contrast to\n",
            "    `tf.Variable`). There is nothing especially _constant_ about the value\n",
            "    returned from `tf.constant`. This function is not fundamentally different from\n",
            "    `tf.convert_to_tensor`. The name `tf.constant` comes from the `value` being\n",
            "    embedded in a `Const` node in the `tf.Graph`. `tf.constant` is useful\n",
            "    for asserting that the value can be embedded that way.\n",
            "    \n",
            "    If the argument `dtype` is not specified, then the type is inferred from\n",
            "    the type of `value`.\n",
            "    \n",
            "    >>> # Constant 1-D Tensor from a python list.\n",
            "    >>> tf.constant([1, 2, 3, 4, 5, 6])\n",
            "    <tf.Tensor: shape=(6,), dtype=int32,\n",
            "        numpy=array([1, 2, 3, 4, 5, 6], dtype=int32)>\n",
            "    >>> # Or a numpy array\n",
            "    >>> a = np.array([[1, 2, 3], [4, 5, 6]])\n",
            "    >>> tf.constant(a)\n",
            "    <tf.Tensor: shape=(2, 3), dtype=int64, numpy=\n",
            "      array([[1, 2, 3],\n",
            "             [4, 5, 6]])>\n",
            "    \n",
            "    If `dtype` is specified, the resulting tensor values are cast to the requested\n",
            "    `dtype`.\n",
            "    \n",
            "    >>> tf.constant([1, 2, 3, 4, 5, 6], dtype=tf.float64)\n",
            "    <tf.Tensor: shape=(6,), dtype=float64,\n",
            "        numpy=array([1., 2., 3., 4., 5., 6.])>\n",
            "    \n",
            "    If `shape` is set, the `value` is reshaped to match. Scalars are expanded to\n",
            "    fill the `shape`:\n",
            "    \n",
            "    >>> tf.constant(0, shape=(2, 3))\n",
            "      <tf.Tensor: shape=(2, 3), dtype=int32, numpy=\n",
            "      array([[0, 0, 0],\n",
            "             [0, 0, 0]], dtype=int32)>\n",
            "    >>> tf.constant([1, 2, 3, 4, 5, 6], shape=[2, 3])\n",
            "    <tf.Tensor: shape=(2, 3), dtype=int32, numpy=\n",
            "      array([[1, 2, 3],\n",
            "             [4, 5, 6]], dtype=int32)>\n",
            "    \n",
            "    `tf.constant` has no effect if an eager Tensor is passed as the `value`, it\n",
            "    even transmits gradients:\n",
            "    \n",
            "    >>> v = tf.Variable([0.0])\n",
            "    >>> with tf.GradientTape() as g:\n",
            "    ...     loss = tf.constant(v + v)\n",
            "    >>> g.gradient(loss, v).numpy()\n",
            "    array([2.], dtype=float32)\n",
            "    \n",
            "    But, since `tf.constant` embeds the value in the `tf.Graph` this fails for\n",
            "    symbolic tensors:\n",
            "    \n",
            "    >>> with tf.compat.v1.Graph().as_default():\n",
            "    ...   i = tf.compat.v1.placeholder(shape=[None, None], dtype=tf.float32)\n",
            "    ...   t = tf.constant(i)\n",
            "    Traceback (most recent call last):\n",
            "    ...\n",
            "    TypeError: ...\n",
            "    \n",
            "    `tf.constant` will create tensors on the current device. Inputs which are\n",
            "    already tensors maintain their placements unchanged.\n",
            "    \n",
            "    Related Ops:\n",
            "    \n",
            "    * `tf.convert_to_tensor` is similar but:\n",
            "      * It has no `shape` argument.\n",
            "      * Symbolic tensors are allowed to pass through.\n",
            "    \n",
            "      >>> with tf.compat.v1.Graph().as_default():\n",
            "      ...   i = tf.compat.v1.placeholder(shape=[None, None], dtype=tf.float32)\n",
            "      ...   t = tf.convert_to_tensor(i)\n",
            "    \n",
            "    * `tf.fill`: differs in a few ways:\n",
            "      *   `tf.constant` supports arbitrary constants, not just uniform scalar\n",
            "          Tensors like `tf.fill`.\n",
            "      *   `tf.fill` creates an Op in the graph that is expanded at runtime, so it\n",
            "          can efficiently represent large tensors.\n",
            "      *   Since `tf.fill` does not embed the value, it can produce dynamically\n",
            "          sized outputs.\n",
            "    \n",
            "    Args:\n",
            "      value: A constant value (or list) of output type `dtype`.\n",
            "      dtype: The type of the elements of the resulting tensor.\n",
            "      shape: Optional dimensions of resulting tensor.\n",
            "      name: Optional name for the tensor.\n",
            "    \n",
            "    Returns:\n",
            "      A Constant Tensor.\n",
            "    \n",
            "    Raises:\n",
            "      TypeError: if shape is incorrectly specified or unsupported.\n",
            "      ValueError: if called on a symbolic tensor.\n",
            "\n"
          ]
        }
      ]
    },
    {
      "cell_type": "code",
      "source": [
        "scalar = tf.constant(7)\n",
        "scalar"
      ],
      "metadata": {
        "colab": {
          "base_uri": "https://localhost:8080/"
        },
        "id": "MTKxS6P6Hbo5",
        "outputId": "ab3a1a06-5cb7-44ba-a52b-0fc235b7a3ca"
      },
      "execution_count": null,
      "outputs": [
        {
          "output_type": "execute_result",
          "data": {
            "text/plain": [
              "<tf.Tensor: shape=(), dtype=int32, numpy=7>"
            ]
          },
          "metadata": {},
          "execution_count": 4
        }
      ]
    },
    {
      "cell_type": "markdown",
      "source": [
        "Check the dimensions of a tensor. ndim is the number of dimensions"
      ],
      "metadata": {
        "id": "I-keZgKUHqk1"
      }
    },
    {
      "cell_type": "code",
      "source": [
        "scalar.ndim"
      ],
      "metadata": {
        "colab": {
          "base_uri": "https://localhost:8080/"
        },
        "id": "EwCrbEc9Lo2a",
        "outputId": "a2c7719c-50ab-41d9-f1d6-6e427c73b773"
      },
      "execution_count": null,
      "outputs": [
        {
          "output_type": "execute_result",
          "data": {
            "text/plain": [
              "0"
            ]
          },
          "metadata": {},
          "execution_count": 5
        }
      ]
    },
    {
      "cell_type": "code",
      "source": [
        "# Create a vector\n",
        "\n",
        "vector = tf.constant([10, 10])\n",
        "vector"
      ],
      "metadata": {
        "colab": {
          "base_uri": "https://localhost:8080/"
        },
        "id": "mFSl9rKZLw7B",
        "outputId": "69ab69cd-219e-4ba5-b019-06877e58a565"
      },
      "execution_count": null,
      "outputs": [
        {
          "output_type": "execute_result",
          "data": {
            "text/plain": [
              "<tf.Tensor: shape=(2,), dtype=int32, numpy=array([10, 10], dtype=int32)>"
            ]
          },
          "metadata": {},
          "execution_count": 6
        }
      ]
    },
    {
      "cell_type": "code",
      "source": [
        "vector.ndim"
      ],
      "metadata": {
        "colab": {
          "base_uri": "https://localhost:8080/"
        },
        "id": "InQrVM3XMZbh",
        "outputId": "9f1c49e1-d94f-4e10-dd4c-dbc441301534"
      },
      "execution_count": null,
      "outputs": [
        {
          "output_type": "execute_result",
          "data": {
            "text/plain": [
              "1"
            ]
          },
          "metadata": {},
          "execution_count": 7
        }
      ]
    },
    {
      "cell_type": "code",
      "source": [
        "#Create a matrix\n",
        "\n",
        "matrix = tf.constant([[10, 7],\n",
        "                      [7, 10]])\n",
        "matrix"
      ],
      "metadata": {
        "colab": {
          "base_uri": "https://localhost:8080/"
        },
        "id": "2XRWgbwoM5zL",
        "outputId": "7a6e365f-b58f-46fd-92a1-0ea56ab8dce1"
      },
      "execution_count": null,
      "outputs": [
        {
          "output_type": "execute_result",
          "data": {
            "text/plain": [
              "<tf.Tensor: shape=(2, 2), dtype=int32, numpy=\n",
              "array([[10,  7],\n",
              "       [ 7, 10]], dtype=int32)>"
            ]
          },
          "metadata": {},
          "execution_count": 8
        }
      ]
    },
    {
      "cell_type": "code",
      "source": [
        "matrix.ndim"
      ],
      "metadata": {
        "colab": {
          "base_uri": "https://localhost:8080/"
        },
        "id": "04vzMe00N8g6",
        "outputId": "266a86cd-def5-4b3c-f429-5016c08e2a2f"
      },
      "execution_count": null,
      "outputs": [
        {
          "output_type": "execute_result",
          "data": {
            "text/plain": [
              "2"
            ]
          },
          "metadata": {},
          "execution_count": 9
        }
      ]
    },
    {
      "cell_type": "code",
      "source": [
        "#Create another matrix\n",
        "another_matrix = tf.constant([[10., 7.],\n",
        "                              [3., 2.],\n",
        "                              [8., 9.]], dtype= 'float16') #Can also use tf.float16, but that will be used without the quotes\n",
        "another_matrix"
      ],
      "metadata": {
        "colab": {
          "base_uri": "https://localhost:8080/"
        },
        "id": "_Kde0j-XOQLs",
        "outputId": "d4c18ee8-b6cc-49d1-e953-6751b3a2bc43"
      },
      "execution_count": null,
      "outputs": [
        {
          "output_type": "execute_result",
          "data": {
            "text/plain": [
              "<tf.Tensor: shape=(3, 2), dtype=float16, numpy=\n",
              "array([[10.,  7.],\n",
              "       [ 3.,  2.],\n",
              "       [ 8.,  9.]], dtype=float16)>"
            ]
          },
          "metadata": {},
          "execution_count": 10
        }
      ]
    },
    {
      "cell_type": "code",
      "source": [
        "another_matrix.ndim"
      ],
      "metadata": {
        "colab": {
          "base_uri": "https://localhost:8080/"
        },
        "id": "xt9MZ2H6PSLC",
        "outputId": "3be0de6c-f93b-4321-bc21-1854203a1936"
      },
      "execution_count": null,
      "outputs": [
        {
          "output_type": "execute_result",
          "data": {
            "text/plain": [
              "2"
            ]
          },
          "metadata": {},
          "execution_count": 11
        }
      ]
    },
    {
      "cell_type": "code",
      "source": [
        "#Creating a Tensor\n",
        "tensor = tf.constant([[[1, 2, 3],\n",
        "                       [4, 5, 6]],\n",
        "                      [[7, 8, 9],\n",
        "                       [10, 11, 12]],\n",
        "                      [[13, 14, 15],\n",
        "                       [16, 17, 18]]])\n",
        "tensor"
      ],
      "metadata": {
        "colab": {
          "base_uri": "https://localhost:8080/"
        },
        "id": "JiypMyMqPrP2",
        "outputId": "678c02d9-5a8a-4d10-c8a7-37dde3135213"
      },
      "execution_count": null,
      "outputs": [
        {
          "output_type": "execute_result",
          "data": {
            "text/plain": [
              "<tf.Tensor: shape=(3, 2, 3), dtype=int32, numpy=\n",
              "array([[[ 1,  2,  3],\n",
              "        [ 4,  5,  6]],\n",
              "\n",
              "       [[ 7,  8,  9],\n",
              "        [10, 11, 12]],\n",
              "\n",
              "       [[13, 14, 15],\n",
              "        [16, 17, 18]]], dtype=int32)>"
            ]
          },
          "metadata": {},
          "execution_count": 12
        }
      ]
    },
    {
      "cell_type": "code",
      "source": [
        "tensor.ndim"
      ],
      "metadata": {
        "colab": {
          "base_uri": "https://localhost:8080/"
        },
        "id": "hztkYEoYQ-FT",
        "outputId": "d735b52d-d979-4450-ebf0-952a8e535c24"
      },
      "execution_count": null,
      "outputs": [
        {
          "output_type": "execute_result",
          "data": {
            "text/plain": [
              "3"
            ]
          },
          "metadata": {},
          "execution_count": 13
        }
      ]
    },
    {
      "cell_type": "markdown",
      "source": [
        "## Creating Tensors with tf.variable()\n",
        "* It creates a changeable tensor"
      ],
      "metadata": {
        "id": "5aT6wVslR3ob"
      }
    },
    {
      "cell_type": "code",
      "source": [
        "changeable_tensor = tf.Variable([10, 7])\n",
        "unchangeable_tensor = tf.constant([10, 7])\n",
        "\n",
        "changeable_tensor, unchangeable_tensor"
      ],
      "metadata": {
        "colab": {
          "base_uri": "https://localhost:8080/"
        },
        "id": "620VYztJOI44",
        "outputId": "abc9b816-0247-48ba-97b5-7f12cd81e022"
      },
      "execution_count": null,
      "outputs": [
        {
          "output_type": "execute_result",
          "data": {
            "text/plain": [
              "(<tf.Variable 'Variable:0' shape=(2,) dtype=int32, numpy=array([10,  7], dtype=int32)>,\n",
              " <tf.Tensor: shape=(2,), dtype=int32, numpy=array([10,  7], dtype=int32)>)"
            ]
          },
          "metadata": {},
          "execution_count": 14
        }
      ]
    },
    {
      "cell_type": "code",
      "source": [
        "changeable_tensor[0] = 7\n",
        "changeable_tensor"
      ],
      "metadata": {
        "colab": {
          "base_uri": "https://localhost:8080/",
          "height": 179
        },
        "id": "7ke7dXqWOpm-",
        "outputId": "df7f675f-5c0a-4d30-fff3-10b2e25e7a6b"
      },
      "execution_count": null,
      "outputs": [
        {
          "output_type": "error",
          "ename": "TypeError",
          "evalue": "'ResourceVariable' object does not support item assignment",
          "traceback": [
            "\u001b[0;31m---------------------------------------------------------------------------\u001b[0m",
            "\u001b[0;31mTypeError\u001b[0m                                 Traceback (most recent call last)",
            "\u001b[0;32m<ipython-input-15-05d0bdd98eb4>\u001b[0m in \u001b[0;36m<cell line: 1>\u001b[0;34m()\u001b[0m\n\u001b[0;32m----> 1\u001b[0;31m \u001b[0mchangeable_tensor\u001b[0m\u001b[0;34m[\u001b[0m\u001b[0;36m0\u001b[0m\u001b[0;34m]\u001b[0m \u001b[0;34m=\u001b[0m \u001b[0;36m7\u001b[0m\u001b[0;34m\u001b[0m\u001b[0;34m\u001b[0m\u001b[0m\n\u001b[0m\u001b[1;32m      2\u001b[0m \u001b[0mchangeable_tensor\u001b[0m\u001b[0;34m\u001b[0m\u001b[0;34m\u001b[0m\u001b[0m\n",
            "\u001b[0;31mTypeError\u001b[0m: 'ResourceVariable' object does not support item assignment"
          ]
        }
      ]
    },
    {
      "cell_type": "code",
      "source": [
        "# We can't directly assign avalue to a position with []. Let's use .assign()\n",
        "changeable_tensor[0].assign(7)\n",
        "changeable_tensor"
      ],
      "metadata": {
        "colab": {
          "base_uri": "https://localhost:8080/"
        },
        "id": "0OOSDa_7Qmvn",
        "outputId": "cebe7ea4-2a2c-4202-d361-5911c849c5e8"
      },
      "execution_count": null,
      "outputs": [
        {
          "output_type": "execute_result",
          "data": {
            "text/plain": [
              "<tf.Variable 'Variable:0' shape=(2,) dtype=int32, numpy=array([7, 7], dtype=int32)>"
            ]
          },
          "metadata": {},
          "execution_count": 16
        }
      ]
    },
    {
      "cell_type": "code",
      "source": [
        "#What if we tried to change the unchangeable tensor\n",
        "unchangeable_tensor[0].assign(7)\n",
        "unchangeable_tensor"
      ],
      "metadata": {
        "colab": {
          "base_uri": "https://localhost:8080/",
          "height": 318
        },
        "id": "YfNJQd1dRP3O",
        "outputId": "9cd4f0eb-2684-48aa-a848-eecf0e1fc516"
      },
      "execution_count": null,
      "outputs": [
        {
          "output_type": "error",
          "ename": "AttributeError",
          "evalue": "'tensorflow.python.framework.ops.EagerTensor' object has no attribute 'assign'",
          "traceback": [
            "\u001b[0;31m---------------------------------------------------------------------------\u001b[0m",
            "\u001b[0;31mAttributeError\u001b[0m                            Traceback (most recent call last)",
            "\u001b[0;32m<ipython-input-17-483dd75be6db>\u001b[0m in \u001b[0;36m<cell line: 2>\u001b[0;34m()\u001b[0m\n\u001b[1;32m      1\u001b[0m \u001b[0;31m#What if we tried to change the unchangeable tensor\u001b[0m\u001b[0;34m\u001b[0m\u001b[0;34m\u001b[0m\u001b[0m\n\u001b[0;32m----> 2\u001b[0;31m \u001b[0munchangeable_tensor\u001b[0m\u001b[0;34m[\u001b[0m\u001b[0;36m0\u001b[0m\u001b[0;34m]\u001b[0m\u001b[0;34m.\u001b[0m\u001b[0massign\u001b[0m\u001b[0;34m(\u001b[0m\u001b[0;36m7\u001b[0m\u001b[0;34m)\u001b[0m\u001b[0;34m\u001b[0m\u001b[0;34m\u001b[0m\u001b[0m\n\u001b[0m\u001b[1;32m      3\u001b[0m \u001b[0munchangeable_tensor\u001b[0m\u001b[0;34m\u001b[0m\u001b[0;34m\u001b[0m\u001b[0m\n",
            "\u001b[0;32m/usr/local/lib/python3.10/dist-packages/tensorflow/python/framework/tensor.py\u001b[0m in \u001b[0;36m__getattr__\u001b[0;34m(self, name)\u001b[0m\n\u001b[1;32m    258\u001b[0m         \u001b[0mtf\u001b[0m\u001b[0;34m.\u001b[0m\u001b[0mexperimental\u001b[0m\u001b[0;34m.\u001b[0m\u001b[0mnumpy\u001b[0m\u001b[0;34m.\u001b[0m\u001b[0mexperimental_enable_numpy_behavior\u001b[0m\u001b[0;34m(\u001b[0m\u001b[0;34m)\u001b[0m\u001b[0;34m\u001b[0m\u001b[0;34m\u001b[0m\u001b[0m\n\u001b[1;32m    259\u001b[0m       \"\"\")\n\u001b[0;32m--> 260\u001b[0;31m     \u001b[0mself\u001b[0m\u001b[0;34m.\u001b[0m\u001b[0m__getattribute__\u001b[0m\u001b[0;34m(\u001b[0m\u001b[0mname\u001b[0m\u001b[0;34m)\u001b[0m\u001b[0;34m\u001b[0m\u001b[0;34m\u001b[0m\u001b[0m\n\u001b[0m\u001b[1;32m    261\u001b[0m \u001b[0;34m\u001b[0m\u001b[0m\n\u001b[1;32m    262\u001b[0m   \u001b[0;34m@\u001b[0m\u001b[0mproperty\u001b[0m\u001b[0;34m\u001b[0m\u001b[0;34m\u001b[0m\u001b[0m\n",
            "\u001b[0;31mAttributeError\u001b[0m: 'tensorflow.python.framework.ops.EagerTensor' object has no attribute 'assign'"
          ]
        }
      ]
    },
    {
      "cell_type": "markdown",
      "source": [
        "NOTE: SEEMS LIKE THE tf.constant() TENSORS ARE SIMILAR TO SETS/TUPLES IN REGULAR PYTHON, IN THAT THEY'RE UNCHANGEABLE. ON THE OTHER HAND tf.Variable() TENSORS ARE LIKE LISTS, IN THAT THEY CAN BE FREELY UPDATED."
      ],
      "metadata": {
        "id": "MxTrBELyRVi3"
      }
    },
    {
      "cell_type": "markdown",
      "source": [
        "## Creating Random Tensors\n",
        "* They are of arbitrary size and filled with random numbers\n",
        "* They can be used as an initial Tensor that'll be then tweaked with more pertinent values as the model keeps updating."
      ],
      "metadata": {
        "id": "qwRumHHZSxMn"
      }
    },
    {
      "cell_type": "code",
      "source": [
        "random_1 = tf.random.Generator.from_seed(42)\n",
        "random_1 = random_1.normal(shape= (3, 2))\n",
        "random_1"
      ],
      "metadata": {
        "colab": {
          "base_uri": "https://localhost:8080/"
        },
        "id": "V9Mk0yLUTJ2W",
        "outputId": "96a13603-e9cc-4f5c-ceb5-bb4b8aeb17a2"
      },
      "execution_count": null,
      "outputs": [
        {
          "output_type": "execute_result",
          "data": {
            "text/plain": [
              "<tf.Tensor: shape=(3, 2), dtype=float32, numpy=\n",
              "array([[-0.7565803 , -0.06854702],\n",
              "       [ 0.07595026, -1.2573844 ],\n",
              "       [-0.23193765, -1.8107855 ]], dtype=float32)>"
            ]
          },
          "metadata": {},
          "execution_count": 18
        }
      ]
    },
    {
      "cell_type": "code",
      "source": [
        "random_2 = tf.random.Generator.from_seed(42)\n",
        "random_2 = random_2.normal(shape= (3, 2))\n",
        "random_2"
      ],
      "metadata": {
        "colab": {
          "base_uri": "https://localhost:8080/"
        },
        "id": "qghQqe6HVA61",
        "outputId": "029dd4ce-1f3e-4f3c-c98d-9c981a79019a"
      },
      "execution_count": null,
      "outputs": [
        {
          "output_type": "execute_result",
          "data": {
            "text/plain": [
              "<tf.Tensor: shape=(3, 2), dtype=float32, numpy=\n",
              "array([[-0.7565803 , -0.06854702],\n",
              "       [ 0.07595026, -1.2573844 ],\n",
              "       [-0.23193765, -1.8107855 ]], dtype=float32)>"
            ]
          },
          "metadata": {},
          "execution_count": 19
        }
      ]
    },
    {
      "cell_type": "code",
      "source": [
        "random_1 == random_2"
      ],
      "metadata": {
        "colab": {
          "base_uri": "https://localhost:8080/"
        },
        "id": "9YRJoES0Wbsp",
        "outputId": "52caad97-8d1a-401b-9d3d-00b25c719a14"
      },
      "execution_count": null,
      "outputs": [
        {
          "output_type": "execute_result",
          "data": {
            "text/plain": [
              "<tf.Tensor: shape=(3, 2), dtype=bool, numpy=\n",
              "array([[ True,  True],\n",
              "       [ True,  True],\n",
              "       [ True,  True]])>"
            ]
          },
          "metadata": {},
          "execution_count": 20
        }
      ]
    },
    {
      "cell_type": "markdown",
      "source": [
        "## Shuffle the order of elements in a tensor\n",
        "* Basically similar to the concept of shuffling the rows in a train-test split\n",
        "* For our shuffled tensors need to have the same shuffle state, we need to assign both a global-level random seed and operation-level random seed."
      ],
      "metadata": {
        "id": "m80XitexWehv"
      }
    },
    {
      "cell_type": "code",
      "source": [
        "not_suffled = tf.constant([[10, 7],\n",
        "                          [3, 4],\n",
        "                          [2, 5]])\n",
        "not_suffled.ndim"
      ],
      "metadata": {
        "colab": {
          "base_uri": "https://localhost:8080/"
        },
        "id": "XR-RPxbOWlTu",
        "outputId": "ccb5edc0-7747-40bd-9e04-6378bfeca613"
      },
      "execution_count": null,
      "outputs": [
        {
          "output_type": "execute_result",
          "data": {
            "text/plain": [
              "2"
            ]
          },
          "metadata": {},
          "execution_count": 21
        }
      ]
    },
    {
      "cell_type": "code",
      "source": [
        "#Shuffling the tensor\n",
        "tf.random.shuffle(not_suffled)"
      ],
      "metadata": {
        "colab": {
          "base_uri": "https://localhost:8080/"
        },
        "id": "PB6VNfPKXovD",
        "outputId": "12138a40-6091-4068-dbb2-bd0ab8cc5ec8"
      },
      "execution_count": null,
      "outputs": [
        {
          "output_type": "execute_result",
          "data": {
            "text/plain": [
              "<tf.Tensor: shape=(3, 2), dtype=int32, numpy=\n",
              "array([[ 2,  5],\n",
              "       [10,  7],\n",
              "       [ 3,  4]], dtype=int32)>"
            ]
          },
          "metadata": {},
          "execution_count": 22
        }
      ]
    },
    {
      "cell_type": "code",
      "source": [
        "#Now, if we only set the seed within the args for tf.random.shuffle(), it'll still change the order on every refresh.\n",
        "#Instead, we need to set seed manually outside it\n",
        "\n",
        "tf.random.set_seed(42) #global seed\n",
        "tf.random.shuffle(not_suffled, seed= 42) #operation seed"
      ],
      "metadata": {
        "colab": {
          "base_uri": "https://localhost:8080/"
        },
        "id": "Kf_IKNFXZgTN",
        "outputId": "10544f83-9853-4316-fa5d-6239941a8050"
      },
      "execution_count": null,
      "outputs": [
        {
          "output_type": "execute_result",
          "data": {
            "text/plain": [
              "<tf.Tensor: shape=(3, 2), dtype=int32, numpy=\n",
              "array([[10,  7],\n",
              "       [ 3,  4],\n",
              "       [ 2,  5]], dtype=int32)>"
            ]
          },
          "metadata": {},
          "execution_count": 23
        }
      ]
    },
    {
      "cell_type": "markdown",
      "source": [
        "## Other way to make tensors\n",
        "* Tensorflow has its own built-in functions that are similar to Numpy, such as tf.ones being the same as np.ones\n",
        "* `tf.ones()`\n",
        "* `tf.zeros()`"
      ],
      "metadata": {
        "id": "kyL3LMfJcpk4"
      }
    },
    {
      "cell_type": "code",
      "source": [
        "#Create a tensor or all ones\n",
        "tf.ones(shape= [10, 7])"
      ],
      "metadata": {
        "colab": {
          "base_uri": "https://localhost:8080/"
        },
        "id": "k1QokptiTzvq",
        "outputId": "3ffacd97-88b2-46a6-f099-e66bbc868c32"
      },
      "execution_count": null,
      "outputs": [
        {
          "output_type": "execute_result",
          "data": {
            "text/plain": [
              "<tf.Tensor: shape=(10, 7), dtype=float32, numpy=\n",
              "array([[1., 1., 1., 1., 1., 1., 1.],\n",
              "       [1., 1., 1., 1., 1., 1., 1.],\n",
              "       [1., 1., 1., 1., 1., 1., 1.],\n",
              "       [1., 1., 1., 1., 1., 1., 1.],\n",
              "       [1., 1., 1., 1., 1., 1., 1.],\n",
              "       [1., 1., 1., 1., 1., 1., 1.],\n",
              "       [1., 1., 1., 1., 1., 1., 1.],\n",
              "       [1., 1., 1., 1., 1., 1., 1.],\n",
              "       [1., 1., 1., 1., 1., 1., 1.],\n",
              "       [1., 1., 1., 1., 1., 1., 1.]], dtype=float32)>"
            ]
          },
          "metadata": {},
          "execution_count": 24
        }
      ]
    },
    {
      "cell_type": "code",
      "source": [
        "#Create a tensor of all zeroes\n",
        "tf.zeros(shape= [10, 7])"
      ],
      "metadata": {
        "colab": {
          "base_uri": "https://localhost:8080/"
        },
        "id": "jeD8_O2qT9cM",
        "outputId": "033a5698-bf58-49f5-d9f2-9ae74ab68d2a"
      },
      "execution_count": null,
      "outputs": [
        {
          "output_type": "execute_result",
          "data": {
            "text/plain": [
              "<tf.Tensor: shape=(10, 7), dtype=float32, numpy=\n",
              "array([[0., 0., 0., 0., 0., 0., 0.],\n",
              "       [0., 0., 0., 0., 0., 0., 0.],\n",
              "       [0., 0., 0., 0., 0., 0., 0.],\n",
              "       [0., 0., 0., 0., 0., 0., 0.],\n",
              "       [0., 0., 0., 0., 0., 0., 0.],\n",
              "       [0., 0., 0., 0., 0., 0., 0.],\n",
              "       [0., 0., 0., 0., 0., 0., 0.],\n",
              "       [0., 0., 0., 0., 0., 0., 0.],\n",
              "       [0., 0., 0., 0., 0., 0., 0.],\n",
              "       [0., 0., 0., 0., 0., 0., 0.]], dtype=float32)>"
            ]
          },
          "metadata": {},
          "execution_count": 25
        }
      ]
    },
    {
      "cell_type": "markdown",
      "source": [
        "## Turning NumPy arrays into Tensorflow tensors\n",
        "* The main difference between NumPy arrays and Tensorflow tensors is that tensors can be run on GPUs (offer much faster numerical computing)."
      ],
      "metadata": {
        "id": "AKkpjKkjUS6-"
      }
    },
    {
      "cell_type": "code",
      "source": [
        "import numpy as np"
      ],
      "metadata": {
        "id": "msHnT0wrWcXa"
      },
      "execution_count": null,
      "outputs": []
    },
    {
      "cell_type": "code",
      "source": [
        "numpy_A = np.arange(1, 25, dtype= np.int32)\n",
        "numpy_A\n",
        "\n",
        "#X = tf.constant(some_matrix) #Capitalize the name for matrix or tensor\n",
        "#y = tf.constant(vector) #lower caps for vector"
      ],
      "metadata": {
        "colab": {
          "base_uri": "https://localhost:8080/"
        },
        "id": "d5mWBdWzWndg",
        "outputId": "ebfea0a0-7965-42bc-abe4-8f4d8dce195b"
      },
      "execution_count": null,
      "outputs": [
        {
          "output_type": "execute_result",
          "data": {
            "text/plain": [
              "array([ 1,  2,  3,  4,  5,  6,  7,  8,  9, 10, 11, 12, 13, 14, 15, 16, 17,\n",
              "       18, 19, 20, 21, 22, 23, 24], dtype=int32)"
            ]
          },
          "metadata": {},
          "execution_count": 27
        }
      ]
    },
    {
      "cell_type": "code",
      "source": [
        "A = tf.constant(numpy_A, shape= (2, 3, 4))\n",
        "A"
      ],
      "metadata": {
        "colab": {
          "base_uri": "https://localhost:8080/"
        },
        "id": "i-KNvuczXBdU",
        "outputId": "00940604-8f91-44a9-cc4c-b6e583120615"
      },
      "execution_count": null,
      "outputs": [
        {
          "output_type": "execute_result",
          "data": {
            "text/plain": [
              "<tf.Tensor: shape=(2, 3, 4), dtype=int32, numpy=\n",
              "array([[[ 1,  2,  3,  4],\n",
              "        [ 5,  6,  7,  8],\n",
              "        [ 9, 10, 11, 12]],\n",
              "\n",
              "       [[13, 14, 15, 16],\n",
              "        [17, 18, 19, 20],\n",
              "        [21, 22, 23, 24]]], dtype=int32)>"
            ]
          },
          "metadata": {},
          "execution_count": 28
        }
      ]
    },
    {
      "cell_type": "code",
      "source": [
        "type(A)"
      ],
      "metadata": {
        "colab": {
          "base_uri": "https://localhost:8080/"
        },
        "id": "9LZMbOwrX1aK",
        "outputId": "7377386d-40a7-45eb-a05f-c17b3b722bdf"
      },
      "execution_count": null,
      "outputs": [
        {
          "output_type": "execute_result",
          "data": {
            "text/plain": [
              "tensorflow.python.framework.ops.EagerTensor"
            ]
          },
          "metadata": {},
          "execution_count": 29
        }
      ]
    },
    {
      "cell_type": "code",
      "source": [
        "B = tf.constant(numpy_A, shape= (2, 3, 2, 2))\n",
        "B"
      ],
      "metadata": {
        "colab": {
          "base_uri": "https://localhost:8080/"
        },
        "id": "sRlXrdCNX-Cf",
        "outputId": "69b12d8c-0750-4ead-9c6f-e59d041dae83"
      },
      "execution_count": null,
      "outputs": [
        {
          "output_type": "execute_result",
          "data": {
            "text/plain": [
              "<tf.Tensor: shape=(2, 3, 2, 2), dtype=int32, numpy=\n",
              "array([[[[ 1,  2],\n",
              "         [ 3,  4]],\n",
              "\n",
              "        [[ 5,  6],\n",
              "         [ 7,  8]],\n",
              "\n",
              "        [[ 9, 10],\n",
              "         [11, 12]]],\n",
              "\n",
              "\n",
              "       [[[13, 14],\n",
              "         [15, 16]],\n",
              "\n",
              "        [[17, 18],\n",
              "         [19, 20]],\n",
              "\n",
              "        [[21, 22],\n",
              "         [23, 24]]]], dtype=int32)>"
            ]
          },
          "metadata": {},
          "execution_count": 30
        }
      ]
    },
    {
      "cell_type": "code",
      "source": [
        "A.ndim, B.ndim"
      ],
      "metadata": {
        "colab": {
          "base_uri": "https://localhost:8080/"
        },
        "id": "t61N2pKCb6IR",
        "outputId": "c401a474-57e2-4766-ce24-f779f64cbb4f"
      },
      "execution_count": null,
      "outputs": [
        {
          "output_type": "execute_result",
          "data": {
            "text/plain": [
              "(3, 4)"
            ]
          },
          "metadata": {},
          "execution_count": 31
        }
      ]
    },
    {
      "cell_type": "markdown",
      "source": [
        "## Getting information from Tensors\n",
        "* We may need to get more information from our tensors, i.e. their attributes, like\n",
        " * Shape\n",
        " *  Rank\n",
        " * Axis/dimension\n",
        " * Size"
      ],
      "metadata": {
        "id": "NrvBylWtd6I9"
      }
    },
    {
      "cell_type": "code",
      "source": [
        "#Cerate a rank 4 tensor (i.e. 4 dimensions)\n",
        "rank_4_tensor = tf.zeros(shape= [2, 3, 4, 5])\n",
        "rank_4_tensor"
      ],
      "metadata": {
        "colab": {
          "base_uri": "https://localhost:8080/"
        },
        "id": "_Bka4xZmir2x",
        "outputId": "104b25e2-38cd-4303-da8a-00c037d85e4f"
      },
      "execution_count": null,
      "outputs": [
        {
          "output_type": "execute_result",
          "data": {
            "text/plain": [
              "<tf.Tensor: shape=(2, 3, 4, 5), dtype=float32, numpy=\n",
              "array([[[[0., 0., 0., 0., 0.],\n",
              "         [0., 0., 0., 0., 0.],\n",
              "         [0., 0., 0., 0., 0.],\n",
              "         [0., 0., 0., 0., 0.]],\n",
              "\n",
              "        [[0., 0., 0., 0., 0.],\n",
              "         [0., 0., 0., 0., 0.],\n",
              "         [0., 0., 0., 0., 0.],\n",
              "         [0., 0., 0., 0., 0.]],\n",
              "\n",
              "        [[0., 0., 0., 0., 0.],\n",
              "         [0., 0., 0., 0., 0.],\n",
              "         [0., 0., 0., 0., 0.],\n",
              "         [0., 0., 0., 0., 0.]]],\n",
              "\n",
              "\n",
              "       [[[0., 0., 0., 0., 0.],\n",
              "         [0., 0., 0., 0., 0.],\n",
              "         [0., 0., 0., 0., 0.],\n",
              "         [0., 0., 0., 0., 0.]],\n",
              "\n",
              "        [[0., 0., 0., 0., 0.],\n",
              "         [0., 0., 0., 0., 0.],\n",
              "         [0., 0., 0., 0., 0.],\n",
              "         [0., 0., 0., 0., 0.]],\n",
              "\n",
              "        [[0., 0., 0., 0., 0.],\n",
              "         [0., 0., 0., 0., 0.],\n",
              "         [0., 0., 0., 0., 0.],\n",
              "         [0., 0., 0., 0., 0.]]]], dtype=float32)>"
            ]
          },
          "metadata": {},
          "execution_count": 3
        }
      ]
    },
    {
      "cell_type": "code",
      "source": [
        "rank_4_tensor[0]"
      ],
      "metadata": {
        "colab": {
          "base_uri": "https://localhost:8080/"
        },
        "id": "ndDvMX_ijoPi",
        "outputId": "2d84c43d-a155-4fb5-9873-9ddd44704821"
      },
      "execution_count": null,
      "outputs": [
        {
          "output_type": "execute_result",
          "data": {
            "text/plain": [
              "<tf.Tensor: shape=(3, 4, 5), dtype=float32, numpy=\n",
              "array([[[0., 0., 0., 0., 0.],\n",
              "        [0., 0., 0., 0., 0.],\n",
              "        [0., 0., 0., 0., 0.],\n",
              "        [0., 0., 0., 0., 0.]],\n",
              "\n",
              "       [[0., 0., 0., 0., 0.],\n",
              "        [0., 0., 0., 0., 0.],\n",
              "        [0., 0., 0., 0., 0.],\n",
              "        [0., 0., 0., 0., 0.]],\n",
              "\n",
              "       [[0., 0., 0., 0., 0.],\n",
              "        [0., 0., 0., 0., 0.],\n",
              "        [0., 0., 0., 0., 0.],\n",
              "        [0., 0., 0., 0., 0.]]], dtype=float32)>"
            ]
          },
          "metadata": {},
          "execution_count": 33
        }
      ]
    },
    {
      "cell_type": "code",
      "source": [
        "rank_4_tensor.shape, rank_4_tensor.ndim, tf.size(rank_4_tensor)"
      ],
      "metadata": {
        "colab": {
          "base_uri": "https://localhost:8080/"
        },
        "id": "fNcXCKxfkoCA",
        "outputId": "83f100b6-680f-45a3-8806-3433434578ef"
      },
      "execution_count": null,
      "outputs": [
        {
          "output_type": "execute_result",
          "data": {
            "text/plain": [
              "(TensorShape([2, 3, 4, 5]), 4, <tf.Tensor: shape=(), dtype=int32, numpy=120>)"
            ]
          },
          "metadata": {},
          "execution_count": 34
        }
      ]
    },
    {
      "cell_type": "code",
      "source": [
        "#Get various attributes of tensors\n",
        "print(\"Datatype of every element: \", rank_4_tensor.dtype)\n",
        "print(\"Number of dimensions (rank): \", rank_4_tensor.ndim)\n",
        "print(\"Shape of tensor: \", rank_4_tensor.shape)\n",
        "print(\"Elements along 0 axis: \", rank_4_tensor.shape[0])\n",
        "print(\"Elements along the last axis: \", rank_4_tensor.shape[-1])\n",
        "print(\"The total number of elements in our tensor: \", tf.size(rank_4_tensor))\n",
        "print(\"The total number of elements in our tensor: \", tf.size(rank_4_tensor).numpy()) #For a lot of the tensorflow attributes, we can attach .numpy() at the end to get just value"
      ],
      "metadata": {
        "colab": {
          "base_uri": "https://localhost:8080/"
        },
        "id": "DklZF672k7Ay",
        "outputId": "7df871fa-a7cf-4ecb-bdcc-84c4425c844e"
      },
      "execution_count": null,
      "outputs": [
        {
          "output_type": "stream",
          "name": "stdout",
          "text": [
            "Datatype of every element:  <dtype: 'float32'>\n",
            "Number of dimensions (rank):  4\n",
            "Shape of tensor:  (2, 3, 4, 5)\n",
            "Elements along 0 axis:  2\n",
            "Elements along the last axis:  5\n",
            "The total number of elements in our tensor:  tf.Tensor(120, shape=(), dtype=int32)\n",
            "The total number of elements in our tensor:  120\n"
          ]
        }
      ]
    },
    {
      "cell_type": "markdown",
      "source": [
        "## Indexing Tensors\n",
        "Tensors can be indexed like lists, as we've seen before."
      ],
      "metadata": {
        "id": "w_Rum45bnIrt"
      }
    },
    {
      "cell_type": "code",
      "source": [
        "#Getting the first two elements of each dimension\n",
        "rank_4_tensor[:2, :2, :2, :2]"
      ],
      "metadata": {
        "colab": {
          "base_uri": "https://localhost:8080/"
        },
        "id": "W4jGQUB5NDYr",
        "outputId": "724dbf05-9082-450f-8047-d2bc469b8116"
      },
      "execution_count": null,
      "outputs": [
        {
          "output_type": "execute_result",
          "data": {
            "text/plain": [
              "<tf.Tensor: shape=(2, 2, 2, 2), dtype=float32, numpy=\n",
              "array([[[[0., 0.],\n",
              "         [0., 0.]],\n",
              "\n",
              "        [[0., 0.],\n",
              "         [0., 0.]]],\n",
              "\n",
              "\n",
              "       [[[0., 0.],\n",
              "         [0., 0.]],\n",
              "\n",
              "        [[0., 0.],\n",
              "         [0., 0.]]]], dtype=float32)>"
            ]
          },
          "metadata": {},
          "execution_count": 36
        }
      ]
    },
    {
      "cell_type": "code",
      "source": [
        "B, B.ndim"
      ],
      "metadata": {
        "colab": {
          "base_uri": "https://localhost:8080/"
        },
        "id": "fME_In_kOjn9",
        "outputId": "29e4733a-5abc-47ef-e21e-4331f7c138d6"
      },
      "execution_count": null,
      "outputs": [
        {
          "output_type": "execute_result",
          "data": {
            "text/plain": [
              "(<tf.Tensor: shape=(2, 3, 2, 2), dtype=int32, numpy=\n",
              " array([[[[ 1,  2],\n",
              "          [ 3,  4]],\n",
              " \n",
              "         [[ 5,  6],\n",
              "          [ 7,  8]],\n",
              " \n",
              "         [[ 9, 10],\n",
              "          [11, 12]]],\n",
              " \n",
              " \n",
              "        [[[13, 14],\n",
              "          [15, 16]],\n",
              " \n",
              "         [[17, 18],\n",
              "          [19, 20]],\n",
              " \n",
              "         [[21, 22],\n",
              "          [23, 24]]]], dtype=int32)>,\n",
              " 4)"
            ]
          },
          "metadata": {},
          "execution_count": 37
        }
      ]
    },
    {
      "cell_type": "code",
      "source": [
        "B[:2, :2, :1, :]"
      ],
      "metadata": {
        "colab": {
          "base_uri": "https://localhost:8080/"
        },
        "id": "2JM-79ASO9j9",
        "outputId": "720eb9d0-00c0-421d-81af-b4759915186c"
      },
      "execution_count": null,
      "outputs": [
        {
          "output_type": "execute_result",
          "data": {
            "text/plain": [
              "<tf.Tensor: shape=(2, 2, 1, 2), dtype=int32, numpy=\n",
              "array([[[[ 1,  2]],\n",
              "\n",
              "        [[ 5,  6]]],\n",
              "\n",
              "\n",
              "       [[[13, 14]],\n",
              "\n",
              "        [[17, 18]]]], dtype=int32)>"
            ]
          },
          "metadata": {},
          "execution_count": 38
        }
      ]
    },
    {
      "cell_type": "markdown",
      "source": [
        "From the above code we can see that each list slice is dependent on the list slice before. Since we start with :1, it'll only consider the first element of the Tensor, and then upto the second element (:2) and so on and so forth."
      ],
      "metadata": {
        "id": "fzZRopnRPMPE"
      }
    },
    {
      "cell_type": "code",
      "source": [
        "# Get the first element from each dimension from each index except for the final\n",
        "# one\n",
        "rank_4_tensor[:1, :1, :1, :]"
      ],
      "metadata": {
        "colab": {
          "base_uri": "https://localhost:8080/"
        },
        "id": "IIntQqWrPu1m",
        "outputId": "3ff3302a-f1d5-4026-e7a4-96ec4d5f8ebe"
      },
      "execution_count": null,
      "outputs": [
        {
          "output_type": "execute_result",
          "data": {
            "text/plain": [
              "<tf.Tensor: shape=(1, 1, 1, 5), dtype=float32, numpy=array([[[[0., 0., 0., 0., 0.]]]], dtype=float32)>"
            ]
          },
          "metadata": {},
          "execution_count": 39
        }
      ]
    },
    {
      "cell_type": "code",
      "source": [
        "rank_4_tensor.shape"
      ],
      "metadata": {
        "colab": {
          "base_uri": "https://localhost:8080/"
        },
        "id": "Se7xcFHDQWkG",
        "outputId": "4ce416ee-d5ed-47ee-db14-39594aa826a5"
      },
      "execution_count": null,
      "outputs": [
        {
          "output_type": "execute_result",
          "data": {
            "text/plain": [
              "TensorShape([2, 3, 4, 5])"
            ]
          },
          "metadata": {},
          "execution_count": 40
        }
      ]
    },
    {
      "cell_type": "code",
      "source": [
        "rank_4_tensor[:1, :1, :, :1]"
      ],
      "metadata": {
        "colab": {
          "base_uri": "https://localhost:8080/"
        },
        "id": "Lh6oXJ_YQixf",
        "outputId": "5931f843-ac72-4f77-a3fe-4ca155e5da01"
      },
      "execution_count": null,
      "outputs": [
        {
          "output_type": "execute_result",
          "data": {
            "text/plain": [
              "<tf.Tensor: shape=(1, 1, 4, 1), dtype=float32, numpy=\n",
              "array([[[[0.],\n",
              "         [0.],\n",
              "         [0.],\n",
              "         [0.]]]], dtype=float32)>"
            ]
          },
          "metadata": {},
          "execution_count": 41
        }
      ]
    },
    {
      "cell_type": "code",
      "source": [
        "rank_4_tensor[:1, :, :1, :1]"
      ],
      "metadata": {
        "colab": {
          "base_uri": "https://localhost:8080/"
        },
        "id": "n-pqj7AvQoB-",
        "outputId": "f27c2f43-bac2-4a46-d78b-3518d0dd59c8"
      },
      "execution_count": null,
      "outputs": [
        {
          "output_type": "execute_result",
          "data": {
            "text/plain": [
              "<tf.Tensor: shape=(1, 3, 1, 1), dtype=float32, numpy=\n",
              "array([[[[0.]],\n",
              "\n",
              "        [[0.]],\n",
              "\n",
              "        [[0.]]]], dtype=float32)>"
            ]
          },
          "metadata": {},
          "execution_count": 42
        }
      ]
    },
    {
      "cell_type": "code",
      "source": [
        "rank_4_tensor[:, :1, :1, :1]"
      ],
      "metadata": {
        "colab": {
          "base_uri": "https://localhost:8080/"
        },
        "id": "XZro4qQ2R1qd",
        "outputId": "da5e53e7-e931-4a69-cbe3-ff39cdccf912"
      },
      "execution_count": null,
      "outputs": [
        {
          "output_type": "execute_result",
          "data": {
            "text/plain": [
              "<tf.Tensor: shape=(2, 1, 1, 1), dtype=float32, numpy=\n",
              "array([[[[0.]]],\n",
              "\n",
              "\n",
              "       [[[0.]]]], dtype=float32)>"
            ]
          },
          "metadata": {},
          "execution_count": 43
        }
      ]
    },
    {
      "cell_type": "code",
      "source": [
        "#Create a rank 2 Tensor(2 dim)\n",
        "rank_2_tensor = tf.constant([[10, 7],\n",
        "                             [3, 4]])\n",
        "rank_2_tensor"
      ],
      "metadata": {
        "colab": {
          "base_uri": "https://localhost:8080/"
        },
        "id": "jrYxAjCzSCuy",
        "outputId": "b301cdbc-bfbd-4f2f-adde-cfa7e38f186a"
      },
      "execution_count": null,
      "outputs": [
        {
          "output_type": "execute_result",
          "data": {
            "text/plain": [
              "<tf.Tensor: shape=(2, 2), dtype=int32, numpy=\n",
              "array([[10,  7],\n",
              "       [ 3,  4]], dtype=int32)>"
            ]
          },
          "metadata": {},
          "execution_count": 4
        }
      ]
    },
    {
      "cell_type": "code",
      "source": [
        "rank_2_tensor.shape, rank_2_tensor.ndim"
      ],
      "metadata": {
        "colab": {
          "base_uri": "https://localhost:8080/"
        },
        "id": "JRanmEKYTg-M",
        "outputId": "607e353b-4c52-456c-de1d-a4e96ab33554"
      },
      "execution_count": null,
      "outputs": [
        {
          "output_type": "execute_result",
          "data": {
            "text/plain": [
              "(TensorShape([2, 2]), 2)"
            ]
          },
          "metadata": {},
          "execution_count": 45
        }
      ]
    },
    {
      "cell_type": "code",
      "source": [
        "#Get the last item of each row\n",
        "rank_2_tensor[:,-1]"
      ],
      "metadata": {
        "colab": {
          "base_uri": "https://localhost:8080/"
        },
        "id": "WL4lbcgGUdVv",
        "outputId": "2718b51b-b4d8-4b07-80a6-5c637f3d5ac3"
      },
      "execution_count": null,
      "outputs": [
        {
          "output_type": "execute_result",
          "data": {
            "text/plain": [
              "<tf.Tensor: shape=(2,), dtype=int32, numpy=array([7, 4], dtype=int32)>"
            ]
          },
          "metadata": {},
          "execution_count": 48
        }
      ]
    },
    {
      "cell_type": "code",
      "source": [
        "#Add an extra dimension to our rank 2 tensor\n",
        "rank_3_tensor = rank_2_tensor[..., tf.newaxis]\n",
        "rank_3_tensor"
      ],
      "metadata": {
        "id": "x7BldbDHU-vd",
        "colab": {
          "base_uri": "https://localhost:8080/"
        },
        "outputId": "fb3f37c7-2827-4aec-a638-3edda3d92e14"
      },
      "execution_count": null,
      "outputs": [
        {
          "output_type": "execute_result",
          "data": {
            "text/plain": [
              "<tf.Tensor: shape=(2, 2, 1), dtype=int32, numpy=\n",
              "array([[[10],\n",
              "        [ 7]],\n",
              "\n",
              "       [[ 3],\n",
              "        [ 4]]], dtype=int32)>"
            ]
          },
          "metadata": {},
          "execution_count": 5
        }
      ]
    },
    {
      "cell_type": "markdown",
      "source": [
        "The '...' signifies that we add a new axis at the end of the existing dimensions. So, instead of writing [:, :, tf.newaxis], we can simply shorten that by using '...'."
      ],
      "metadata": {
        "id": "abyBCDLqwtDI"
      }
    },
    {
      "cell_type": "code",
      "source": [
        "#Alternative to tf.newaxis\n",
        "tf.expand_dims(rank_2_tensor, axis= -1) #-1 symbolizes that we expand on the last axis"
      ],
      "metadata": {
        "colab": {
          "base_uri": "https://localhost:8080/"
        },
        "id": "ReRrm_7RxKgy",
        "outputId": "6c2bc6b8-5485-4fa4-9549-bdffaf4196f4"
      },
      "execution_count": null,
      "outputs": [
        {
          "output_type": "execute_result",
          "data": {
            "text/plain": [
              "<tf.Tensor: shape=(2, 2, 1), dtype=int32, numpy=\n",
              "array([[[10],\n",
              "        [ 7]],\n",
              "\n",
              "       [[ 3],\n",
              "        [ 4]]], dtype=int32)>"
            ]
          },
          "metadata": {},
          "execution_count": 7
        }
      ]
    },
    {
      "cell_type": "code",
      "source": [
        "#Expand on axis 0\n",
        "tf.expand_dims(rank_2_tensor, axis= 0)"
      ],
      "metadata": {
        "colab": {
          "base_uri": "https://localhost:8080/"
        },
        "id": "YkiF0RcIx1sm",
        "outputId": "b9edd12f-fdc2-43ff-bc25-6f8ed43c688e"
      },
      "execution_count": null,
      "outputs": [
        {
          "output_type": "execute_result",
          "data": {
            "text/plain": [
              "<tf.Tensor: shape=(1, 2, 2), dtype=int32, numpy=\n",
              "array([[[10,  7],\n",
              "        [ 3,  4]]], dtype=int32)>"
            ]
          },
          "metadata": {},
          "execution_count": 11
        }
      ]
    },
    {
      "cell_type": "markdown",
      "source": [
        "## Manipulating Tensors (Tensor Operations)\n",
        "* ** Basic Operations **\n",
        "* `+`, `-`, `*`, `/`"
      ],
      "metadata": {
        "id": "kVqgQEr3yOC8"
      }
    },
    {
      "cell_type": "code",
      "source": [
        "#Add values to a tensor using `+`\n",
        "tensor = tf.constant([[10, 7], [3, 4]])\n",
        "tensor + 10"
      ],
      "metadata": {
        "colab": {
          "base_uri": "https://localhost:8080/"
        },
        "id": "o6bC10YuzDOa",
        "outputId": "ec84210b-dce9-420c-bac0-21be1d25f71f"
      },
      "execution_count": null,
      "outputs": [
        {
          "output_type": "execute_result",
          "data": {
            "text/plain": [
              "<tf.Tensor: shape=(2, 2), dtype=int32, numpy=\n",
              "array([[20, 17],\n",
              "       [13, 14]], dtype=int32)>"
            ]
          },
          "metadata": {},
          "execution_count": 14
        }
      ]
    },
    {
      "cell_type": "code",
      "source": [
        "#Multiplication\n",
        "tensor * 10"
      ],
      "metadata": {
        "colab": {
          "base_uri": "https://localhost:8080/"
        },
        "id": "1tfyGhjx2I4D",
        "outputId": "93ff94d6-daa4-4be8-8ee8-57cfb1d07248"
      },
      "execution_count": null,
      "outputs": [
        {
          "output_type": "execute_result",
          "data": {
            "text/plain": [
              "<tf.Tensor: shape=(2, 2), dtype=int32, numpy=\n",
              "array([[100,  70],\n",
              "       [ 30,  40]], dtype=int32)>"
            ]
          },
          "metadata": {},
          "execution_count": 15
        }
      ]
    },
    {
      "cell_type": "code",
      "source": [
        "#Subtraction\n",
        "tensor - 10"
      ],
      "metadata": {
        "colab": {
          "base_uri": "https://localhost:8080/"
        },
        "id": "fPwYrUNr3HaI",
        "outputId": "56665f82-cc4f-4c15-a181-5837dde0af92"
      },
      "execution_count": null,
      "outputs": [
        {
          "output_type": "execute_result",
          "data": {
            "text/plain": [
              "<tf.Tensor: shape=(2, 2), dtype=int32, numpy=\n",
              "array([[ 0, -3],\n",
              "       [-7, -6]], dtype=int32)>"
            ]
          },
          "metadata": {},
          "execution_count": 16
        }
      ]
    },
    {
      "cell_type": "code",
      "source": [
        "#Division\n",
        "tensor / 10"
      ],
      "metadata": {
        "colab": {
          "base_uri": "https://localhost:8080/"
        },
        "id": "9YZ-cdUE3Jue",
        "outputId": "d784c48a-4162-4f34-aeb9-4336e2d8fbc6"
      },
      "execution_count": null,
      "outputs": [
        {
          "output_type": "execute_result",
          "data": {
            "text/plain": [
              "<tf.Tensor: shape=(2, 2), dtype=float64, numpy=\n",
              "array([[1. , 0.7],\n",
              "       [0.3, 0.4]])>"
            ]
          },
          "metadata": {},
          "execution_count": 17
        }
      ]
    },
    {
      "cell_type": "code",
      "source": [
        "#There are built-in functions too for tensorflow\n",
        "tf.multiply(tensor, 10)"
      ],
      "metadata": {
        "colab": {
          "base_uri": "https://localhost:8080/"
        },
        "id": "AAfuorYb3N6y",
        "outputId": "87eec0c5-d01f-4f7f-affd-baf015ba92f5"
      },
      "execution_count": null,
      "outputs": [
        {
          "output_type": "execute_result",
          "data": {
            "text/plain": [
              "<tf.Tensor: shape=(2, 2), dtype=int32, numpy=\n",
              "array([[100,  70],\n",
              "       [ 30,  40]], dtype=int32)>"
            ]
          },
          "metadata": {},
          "execution_count": 18
        }
      ]
    },
    {
      "cell_type": "markdown",
      "source": [
        "NOTE: The tensorflow versions, i.e. tf.multiply, tf.add, etc., are better optimized to run on GPUs and will work faster."
      ],
      "metadata": {
        "id": "HDA_Lfrg3qo8"
      }
    },
    {
      "cell_type": "code",
      "source": [],
      "metadata": {
        "id": "eZ35aIEp4FgB"
      },
      "execution_count": null,
      "outputs": []
    }
  ]
}